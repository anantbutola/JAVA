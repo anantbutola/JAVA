{
 "cells": [
  {
   "cell_type": "code",
   "id": "initial_id",
   "metadata": {
    "collapsed": true,
    "ExecuteTime": {
     "end_time": "2025-09-18T05:17:33.943039Z",
     "start_time": "2025-09-18T05:17:33.930716Z"
    }
   },
   "source": [
    "def dsf_traversal(graph,start,goal):\n",
    "    stack=[start]\n",
    "    visited=[]\n",
    "\n",
    "\n",
    "    while stack:\n",
    "        node=stack.pop()\n",
    "        if node not in visited:\n",
    "            visited.append(node)\n",
    "            if node == goal:\n",
    "                break\n",
    "            for neighbour in reversed(graph[node]):\n",
    "                if neighbour not in visited :\n",
    "                    stack.append(neighbour)\n",
    "\n",
    "\n",
    "    return visited\n"
   ],
   "outputs": [],
   "execution_count": 51
  },
  {
   "metadata": {
    "ExecuteTime": {
     "end_time": "2025-09-18T05:17:33.986594Z",
     "start_time": "2025-09-18T05:17:33.978129Z"
    }
   },
   "cell_type": "code",
   "source": [
    "graph={\n",
    "    'A':['B','C','D'],\n",
    "    'B':['E','F'],\n",
    "    'C':['G','H'],\n",
    "    'D':['I'],\n",
    "    'E':['J','K'],\n",
    "    'F':[],\n",
    "    'G':['L'],\n",
    "    'H':[],\n",
    "    'I':['M'],\n",
    "    'J':[],\n",
    "    'K':['N'],\n",
    "    'L':[],\n",
    "    'M':[],\n",
    "    'N':[]\n",
    "}"
   ],
   "id": "f1ab5226f9215173",
   "outputs": [],
   "execution_count": 52
  },
  {
   "metadata": {
    "ExecuteTime": {
     "end_time": "2025-09-18T05:17:34.037587Z",
     "start_time": "2025-09-18T05:17:34.008508Z"
    }
   },
   "cell_type": "code",
   "source": [
    "print(\"DFS Path Is : \")\n",
    "dsf_traversal(graph,'A','H')"
   ],
   "id": "6f3b1b69677e589b",
   "outputs": [
    {
     "name": "stdout",
     "output_type": "stream",
     "text": [
      "DFS Path Is : \n"
     ]
    },
    {
     "data": {
      "text/plain": [
       "['A', 'B', 'E', 'J', 'K', 'N', 'F', 'C', 'G', 'L', 'H']"
      ]
     },
     "execution_count": 53,
     "metadata": {},
     "output_type": "execute_result"
    }
   ],
   "execution_count": 53
  }
 ],
 "metadata": {
  "kernelspec": {
   "display_name": "Python 3",
   "language": "python",
   "name": "python3"
  },
  "language_info": {
   "codemirror_mode": {
    "name": "ipython",
    "version": 2
   },
   "file_extension": ".py",
   "mimetype": "text/x-python",
   "name": "python",
   "nbconvert_exporter": "python",
   "pygments_lexer": "ipython2",
   "version": "2.7.6"
  }
 },
 "nbformat": 4,
 "nbformat_minor": 5
}
